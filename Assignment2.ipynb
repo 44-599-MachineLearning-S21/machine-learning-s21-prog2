{
 "cells": [
  {
   "cell_type": "markdown",
   "metadata": {},
   "source": [
    "## Assignment 2 - Structures and Functions"
   ]
  },
  {
   "cell_type": "markdown",
   "metadata": {},
   "source": [
    "## Part 1\n",
    "* Create a function `choose_repetition_ok` which takes two arguments n (number of object to choose from) and r (number of choices to make.  It will be  $\\frac{\\left(n+r-1\\right)!}{r!\\left(n+1\\right)!}$. \n",
    "It must be the case that $n\\ge 0$ and $0 \\le r \\le n$.  \n",
    "\n",
    "_(Note: if r is zero, the result should 1.)_"
   ]
  },
  {
   "cell_type": "markdown",
   "metadata": {},
   "source": [
    "## Part 2\n",
    "* Create a function `get_e` which takes a single argument n that defaults to 4 and is the number of terms to use in your computation. Use the first n terms of the sequence\n",
    "\n",
    "$e = \\frac{1}{0!} + \\frac{1}{1!}+  \\frac{1}{2!}  +\\frac{1}{3!} + ...$\n",
    "\n",
    "* Create a function `my_sine` with two arguments x and n (the number of terms to use.)  Compute the approximation to $sine(x)$ for the values $0$, $\\frac{\\pi}{2}$, $\\frac{2\\pi}{2}$, $\\frac{3\\pi}{2}$, and $\\frac{4\\pi}{2}$ with n=5 and compare with `math.sin`. Use the sequence \n",
    "\n",
    "$sine(x) = x - \\frac{x^3}{3!} + \\frac{x^5}{5!}- \\frac{x^7}{7!} + \\frac{x^9}{9!} - \\frac{x^{11}}{11!} ...$\n"
   ]
  },
  {
   "cell_type": "markdown",
   "metadata": {},
   "source": [
    "## Part 3\n",
    "* Implement Euclid's algorithm to compute the GCD (Greatest Common Divisor) of two non-negative integer values.  Here is the recursive formula:\n",
    "\n",
    "$GCD(A,B) = \\left\\{ \n",
    "\\begin{array}{ll}\n",
    "A & if B=0\\\\\n",
    "GCD(B,A) & if B>A\\\\ \n",
    "GCD(B, A~mod~B) & otherwise\n",
    "\\end{array}\n",
    "\\right. $\n"
   ]
  },
  {
   "cell_type": "markdown",
   "metadata": {},
   "source": [
    "## Part 4\n",
    "* Write a function `counter` that will take a list and four values `region1_start`,  `region1_end`,  `region2_start` and `region2_end.  Compute the number of values the interval for region1, the number of values in the interval for region2 , and the number of values that are not in either region.  Return the result as a tuple.\n",
    "* Write a function `rare` that will take a list and will determine the values that only show up once and values that only show up twice in the list. Return the result as a pair of lists.  \n",
    "* Write a function `rank_two` that will find the second smallest value in  of a list of numbers.  Whoever calls the function must guarantee that the number of values is at least 2.  If not, the behavior of the function is undefined. (May return an arbitrary value, throw an error, etc.)"
   ]
  },
  {
   "cell_type": "markdown",
   "metadata": {},
   "source": [
    "## Part 5\n",
    "* Write a function `small_word_count` that takes in a string and will use a dictionary to count the number of times each word with length 2 or less appears in the string. The keys in the dictionary will be the short words and the value with be the count in the input string. Return the dictionary that you constructed."
   ]
  },
  {
   "cell_type": "markdown",
   "metadata": {},
   "source": [
    "## Part 6\n",
    "Do at least three calls on each function you created to verify the correct operation."
   ]
  },
  {
   "cell_type": "markdown",
   "metadata": {},
   "source": [
    "## Bonus\n",
    "* Implement a function `erf(z)` that computes the error function using a Maclaurin series with 15 terms. (https://en.wikipedia.org/wiki/Error_function)\n",
    "\n",
    "* Create a markdown that uses latex (you can see examples of it surrounded by $ in this notebook to document the sequence you used.\n",
    "\n",
    "* Use matplotlib to explore the sine function you created.  Create a list of 1000 values over the range of 0 to $2\\pi$ and use that for x.  Create lists of 1000 values where you compute my_sine for each of the values of n = 1, 2, 3, 4, 5, 10, 15, 20, 25, 30.  Plot each of these lists on the same graph.  Use different colors for each of the curves."
   ]
  }
 ],
 "metadata": {
  "kernelspec": {
   "display_name": "Python 3",
   "language": "python",
   "name": "python3"
  },
  "language_info": {
   "codemirror_mode": {
    "name": "ipython",
    "version": 3
   },
   "file_extension": ".py",
   "mimetype": "text/x-python",
   "name": "python",
   "nbconvert_exporter": "python",
   "pygments_lexer": "ipython3",
   "version": "3.9.0"
  }
 },
 "nbformat": 4,
 "nbformat_minor": 4
}
